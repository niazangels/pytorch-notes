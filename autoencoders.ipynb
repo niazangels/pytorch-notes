{
 "cells": [
  {
   "cell_type": "code",
   "execution_count": 1,
   "metadata": {},
   "outputs": [],
   "source": [
    "import torch\n",
    "import numpy as np\n",
    "from torchvision import datasets\n",
    "import torchvision.transforms as transforms\n",
    "from PIL import Image\n",
    "transform = transforms.ToTensor()"
   ]
  },
  {
   "cell_type": "code",
   "execution_count": 2,
   "metadata": {},
   "outputs": [],
   "source": [
    "from collections import namedtuple\n",
    "Optimizer = namedtuple('Optimizer', ('name', 'kwargs'))"
   ]
  },
  {
   "cell_type": "code",
   "execution_count": 3,
   "metadata": {},
   "outputs": [],
   "source": [
    "class MNISTAutoEncoderDataset(datasets.MNIST):\n",
    "    \n",
    "    def __init__(\n",
    "        self, root, train=True, transform=None, download=False\n",
    "    ):\n",
    "        super().__init__(\n",
    "            root=root, \n",
    "            train=train, \n",
    "            transform=transform, \n",
    "            target_transform=None, \n",
    "            download=download\n",
    "        )\n",
    "        self.targets = self.data\n",
    "    \n",
    "    def __getitem__(self, index):\n",
    "        img = self.data[index]\n",
    "\n",
    "        # doing this so that it is consistent with all other datasets\n",
    "        # to return a PIL Image\n",
    "        img = Image.fromarray(img.numpy(), mode='L')\n",
    "\n",
    "        if self.transform is not None:\n",
    "            img = self.transform(img)\n",
    "        return img, img"
   ]
  },
  {
   "cell_type": "code",
   "execution_count": 4,
   "metadata": {},
   "outputs": [],
   "source": [
    "train_data = MNISTAutoEncoderDataset(root='data', train=True, download=True, transform=transform)\n",
    "test_data = MNISTAutoEncoderDataset(root='data', train=False, download=True, transform=transform)"
   ]
  },
  {
   "cell_type": "code",
   "execution_count": 5,
   "metadata": {},
   "outputs": [],
   "source": [
    "bs = 32"
   ]
  },
  {
   "cell_type": "code",
   "execution_count": 6,
   "metadata": {},
   "outputs": [],
   "source": [
    "train_loader = torch.utils.data.DataLoader(train_data, batch_size=bs, shuffle=True)\n",
    "test_loader = torch.utils.data.DataLoader(test_data, batch_size=2*bs, shuffle=True)"
   ]
  },
  {
   "cell_type": "code",
   "execution_count": 7,
   "metadata": {},
   "outputs": [],
   "source": [
    "import matplotlib.pyplot as plt\n",
    "%matplotlib inline\n",
    "    \n",
    "dataiter = iter(train_loader)\n",
    "images, labels = dataiter.next()\n",
    "images = images.numpy()\n",
    "\n",
    "# img = images[0]\n",
    "img = np.squeeze(images[0])"
   ]
  },
  {
   "cell_type": "code",
   "execution_count": 8,
   "metadata": {},
   "outputs": [
    {
     "data": {
      "text/plain": [
       "(28, 28)"
      ]
     },
     "execution_count": 8,
     "metadata": {},
     "output_type": "execute_result"
    }
   ],
   "source": [
    "img.shape"
   ]
  },
  {
   "cell_type": "code",
   "execution_count": 9,
   "metadata": {},
   "outputs": [
    {
     "data": {
      "text/plain": [
       "<matplotlib.image.AxesImage at 0x7fe416ed0780>"
      ]
     },
     "execution_count": 9,
     "metadata": {},
     "output_type": "execute_result"
    },
    {
     "data": {
      "image/png": "[encoded data removed]",
      "text/plain": [
       "<Figure size 360x360 with 1 Axes>"
      ]
     },
     "metadata": {
      "needs_background": "light"
     },
     "output_type": "display_data"
    }
   ],
   "source": [
    "fig = plt.figure(figsize = (5,5)) \n",
    "ax = fig.add_subplot(111)\n",
    "ax.imshow(img, cmap='gray')"
   ]
  },
  {
   "cell_type": "code",
   "execution_count": 10,
   "metadata": {},
   "outputs": [],
   "source": [
    "import torch.nn as nn\n",
    "import torch.nn.functional as F"
   ]
  },
  {
   "cell_type": "markdown",
   "metadata": {},
   "source": [
    "> The input images will be flattened into 784 length vectors. The targets are the same as the inputs. The encoder and decoder will be made of two linear layers, each. The depth dimensions should change as follows: 784 inputs > encoding_dim > 784 outputs. All layers will have ReLu activations applied except for the final output layer, which has a sigmoid activation."
   ]
  },
  {
   "cell_type": "markdown",
   "metadata": {},
   "source": [
    "## Linear Autoencoder"
   ]
  },
  {
   "cell_type": "code",
   "execution_count": 11,
   "metadata": {},
   "outputs": [
    {
     "name": "stdout",
     "output_type": "stream",
     "text": [
      "Autoencoder(\n",
      "  (encoder): Linear(in_features=784, out_features=10, bias=True)\n",
      "  (decoder): Linear(in_features=10, out_features=784, bias=True)\n",
      ")\n"
     ]
    }
   ],
   "source": [
    "class Autoencoder(nn.Module):\n",
    "    def __init__(self, encoding_dim):\n",
    "        super().__init__()\n",
    "        self.encoder = nn.Linear(28*28, encoding_dim)\n",
    "        self.decoder = nn.Linear(encoding_dim, 28*28)\n",
    "\n",
    "    def forward(self, x):\n",
    "        x = x.view(-1, 28*28)\n",
    "        x = F.relu(self.encoder(x))\n",
    "        x = F.sigmoid(self.decoder(x))\n",
    "        return x.view(-1, 1, 28, 28)\n",
    "\n",
    "# initialize the NN\n",
    "encoding_dim = 10\n",
    "model = Autoencoder(encoding_dim)\n",
    "print(model)"
   ]
  },
  {
   "cell_type": "code",
   "execution_count": 12,
   "metadata": {},
   "outputs": [],
   "source": [
    "loss_func = nn.MSELoss()\n",
    "opt = Optimizer(torch.optim.Adam, {'lr':0.01})"
   ]
  },
  {
   "cell_type": "code",
   "execution_count": 13,
   "metadata": {},
   "outputs": [],
   "source": [
    "def loss_batch(model, loss_function, xb, yb, opt=None):\n",
    "    loss = loss_function(model(xb), yb)\n",
    "    if opt is not None:\n",
    "        loss.backward()\n",
    "        opt.step()\n",
    "        opt.zero_grad()\n",
    "    return loss.item(), len(yb)"
   ]
  },
  {
   "cell_type": "code",
   "execution_count": 14,
   "metadata": {},
   "outputs": [],
   "source": [
    "def fit(epochs, model, loss_function, optimizer, train_dl, valid_dl):\n",
    "    device = 'cuda:0' if torch.cuda.is_available() else 'cpu'\n",
    "    device = 'cpu'\n",
    "    print(f\"Training using {device}\")\n",
    "    model.to(device)\n",
    "    opt = optimizer.name(model.parameters(), **optimizer.kwargs)\n",
    "    print(f\"Optimizer: {opt}\")\n",
    "    for epoch in range(epochs):\n",
    "        \n",
    "        model.train()\n",
    "        for xb, yb in train_dl:\n",
    "            loss_batch(model, loss_function, xb.to(device), yb.to(device), opt)\n",
    "        \n",
    "        model.eval()\n",
    "        with torch.no_grad():\n",
    "            losses, nums = zip(\n",
    "                *[loss_batch(model, loss_function, xb.to(device), yb.to(device)) for xb, yb in train_dl]\n",
    "            )\n",
    "            val_loss = np.sum(np.multiply(losses, nums)) / np.sum(nums)\n",
    "            print(f\"Epoch: {epoch}, Val Loss: {val_loss}\")"
   ]
  },
  {
   "cell_type": "code",
   "execution_count": 18,
   "metadata": {},
   "outputs": [
    {
     "name": "stdout",
     "output_type": "stream",
     "text": [
      "Training using cpu\n",
      "Optimizer: Adam (\n",
      "Parameter Group 0\n",
      "    amsgrad: False\n",
      "    betas: (0.9, 0.999)\n",
      "    eps: 1e-08\n",
      "    lr: 0.01\n",
      "    weight_decay: 0\n",
      ")\n"
     ]
    },
    {
     "name": "stderr",
     "output_type": "stream",
     "text": [
      "/home/niyas/.local/share/virtualenvs/pytorch-notes-5uqAFV5U/lib/python3.6/site-packages/torch/nn/functional.py:1350: UserWarning: nn.functional.sigmoid is deprecated. Use torch.sigmoid instead.\n",
      "  warnings.warn(\"nn.functional.sigmoid is deprecated. Use torch.sigmoid instead.\")\n"
     ]
    },
    {
     "name": "stdout",
     "output_type": "stream",
     "text": [
      "Epoch: 0, Val Loss: 0.03537065222163995\n",
      "Epoch: 1, Val Loss: 0.03502865821520487\n",
      "Epoch: 2, Val Loss: 0.034728241205215456\n",
      "Epoch: 3, Val Loss: 0.03494968111316363\n",
      "Epoch: 4, Val Loss: 0.035056261176864306\n",
      "Epoch: 5, Val Loss: 0.03463200207948685\n",
      "Epoch: 6, Val Loss: 0.034564105744163194\n",
      "Epoch: 7, Val Loss: 0.034783746651808424\n",
      "Epoch: 8, Val Loss: 0.03470368308722973\n",
      "Epoch: 9, Val Loss: 0.034901339177290595\n"
     ]
    }
   ],
   "source": [
    "fit(10, model, loss_func, opt, train_loader, test_loader)"
   ]
  },
  {
   "cell_type": "code",
   "execution_count": 21,
   "metadata": {},
   "outputs": [],
   "source": [
    "def show_samples(model, n_samples=10):\n",
    "    model.eval()\n",
    "    model.cpu()\n",
    "    with torch.no_grad():\n",
    "        xb, yb = next(iter(test_loader))\n",
    "        xb = xb[:n_samples]\n",
    "        pred = np.squeeze(model(xb).numpy(), axis=1)\n",
    "        orig = np.squeeze(yb.numpy(),axis=1)\n",
    "        fig, ax = plt.subplots(n_samples, 2, figsize=(4,15))\n",
    "        for i, row in enumerate(ax):\n",
    "            row[0].imshow(orig[i], cmap='gray',)\n",
    "            row[0].axis('off')\n",
    "            row[1].imshow(pred[i], cmap='gray')\n",
    "            row[1].axis('off')\n",
    "        plt.show()"
   ]
  },
  {
   "cell_type": "code",
   "execution_count": 20,
   "metadata": {},
   "outputs": [
    {
     "data": {
      "image/png": "[encoded data removed]",
      "text/plain": [
       "<Figure size 288x1080 with 20 Axes>"
      ]
     },
     "metadata": {
      "needs_background": "light"
     },
     "output_type": "display_data"
    }
   ],
   "source": [
    "show_samples(model)"
   ]
  },
  {
   "cell_type": "markdown",
   "metadata": {},
   "source": [
    "## Convolutional Autoencoder"
   ]
  },
  {
   "cell_type": "code",
   "execution_count": 15,
   "metadata": {},
   "outputs": [],
   "source": [
    "class ConvAutoencoder(nn.Module):\n",
    "    def __init__(self):\n",
    "        super().__init__()\n",
    "        \n",
    "        # encoder\n",
    "        self.conv1 = nn.Conv2d(1, 16, 3, padding=1)  \n",
    "        self.conv2 = nn.Conv2d(16, 4, 3, padding=1)\n",
    "        self.pool = nn.MaxPool2d(2, 2)\n",
    "        \n",
    "        # decoder\n",
    "        self.t_conv1 = nn.ConvTranspose2d(4, 16, 2, stride=2)\n",
    "        self.t_conv2 = nn.ConvTranspose2d(16, 1, 2, stride=2)\n",
    "\n",
    "    def forward(self, x):\n",
    "        \n",
    "        # encoder\n",
    "        x = F.relu(self.conv1(x))\n",
    "        x = self.pool(x)\n",
    "        x = F.relu(self.conv2(x))\n",
    "        x = self.pool(x)\n",
    "        \n",
    "        # decoder\n",
    "        x = F.relu(self.t_conv1(x))\n",
    "        x = F.sigmoid(self.t_conv2(x))        \n",
    "        return x"
   ]
  },
  {
   "cell_type": "code",
   "execution_count": 16,
   "metadata": {},
   "outputs": [],
   "source": [
    "model_conv = ConvAutoencoder()"
   ]
  },
  {
   "cell_type": "code",
   "execution_count": 18,
   "metadata": {},
   "outputs": [
    {
     "name": "stdout",
     "output_type": "stream",
     "text": [
      "Training using cpu\n",
      "Optimizer: Adam (\n",
      "Parameter Group 0\n",
      "    amsgrad: False\n",
      "    betas: (0.9, 0.999)\n",
      "    eps: 1e-08\n",
      "    lr: 0.01\n",
      "    weight_decay: 0\n",
      ")\n"
     ]
    },
    {
     "name": "stderr",
     "output_type": "stream",
     "text": [
      "/home/niyas/.local/share/virtualenvs/pytorch-notes-5uqAFV5U/lib/python3.6/site-packages/torch/nn/functional.py:1350: UserWarning: nn.functional.sigmoid is deprecated. Use torch.sigmoid instead.\n",
      "  warnings.warn(\"nn.functional.sigmoid is deprecated. Use torch.sigmoid instead.\")\n"
     ]
    },
    {
     "name": "stdout",
     "output_type": "stream",
     "text": [
      "Epoch: 0, Val Loss: 0.02278330911497275\n",
      "Epoch: 1, Val Loss: 0.021696229226390522\n",
      "Epoch: 2, Val Loss: 0.02127303618391355\n",
      "Epoch: 3, Val Loss: 0.020877083547910055\n",
      "Epoch: 4, Val Loss: 0.02075252483189106\n",
      "Epoch: 5, Val Loss: 0.020972514960169792\n",
      "Epoch: 6, Val Loss: 0.020709781913956005\n",
      "Epoch: 7, Val Loss: 0.020634572014212607\n",
      "Epoch: 8, Val Loss: 0.020251181744535763\n",
      "Epoch: 9, Val Loss: 0.02030631777147452\n"
     ]
    }
   ],
   "source": [
    "fit(10, model_conv, loss_func, opt, train_loader, test_loader)"
   ]
  },
  {
   "cell_type": "code",
   "execution_count": 52,
   "metadata": {},
   "outputs": [
    {
     "data": {
      "image/png": "[encoded data removed]",
      "text/plain": [
       "<Figure size 288x1080 with 20 Axes>"
      ]
     },
     "metadata": {
      "needs_background": "light"
     },
     "output_type": "display_data"
    }
   ],
   "source": [
    "show_samples(model_conv, 10)"
   ]
  },
  {
   "cell_type": "code",
   "execution_count": 40,
   "metadata": {},
   "outputs": [],
   "source": [
    "def total_parameters(model):\n",
    "    print([x.shape for x in model.parameters()])\n",
    "    return np.sum([x.numel() for x in model.parameters()])"
   ]
  },
  {
   "cell_type": "code",
   "execution_count": 41,
   "metadata": {},
   "outputs": [
    {
     "name": "stdout",
     "output_type": "stream",
     "text": [
      "[torch.Size([10, 784]), torch.Size([10]), torch.Size([784, 10]), torch.Size([784])]\n"
     ]
    },
    {
     "data": {
      "text/plain": [
       "16474"
      ]
     },
     "execution_count": 41,
     "metadata": {},
     "output_type": "execute_result"
    }
   ],
   "source": [
    "total_parameters(model)"
   ]
  },
  {
   "cell_type": "code",
   "execution_count": 42,
   "metadata": {},
   "outputs": [
    {
     "name": "stdout",
     "output_type": "stream",
     "text": [
      "[torch.Size([16, 1, 3, 3]), torch.Size([16]), torch.Size([4, 16, 3, 3]), torch.Size([4]), torch.Size([4, 16, 2, 2]), torch.Size([16]), torch.Size([16, 1, 2, 2]), torch.Size([1])]\n"
     ]
    },
    {
     "data": {
      "text/plain": [
       "1077"
      ]
     },
     "execution_count": 42,
     "metadata": {},
     "output_type": "execute_result"
    }
   ],
   "source": [
    "total_parameters(model_conv)"
   ]
  }
 ],
 "metadata": {
  "kernelspec": {
   "display_name": "Python 3",
   "language": "python",
   "name": "python3"
  },
  "language_info": {
   "codemirror_mode": {
    "name": "ipython",
    "version": 3
   },
   "file_extension": ".py",
   "mimetype": "text/x-python",
   "name": "python",
   "nbconvert_exporter": "python",
   "pygments_lexer": "ipython3",
   "version": "3.6.8"
  }
 },
 "nbformat": 4,
 "nbformat_minor": 4
}
